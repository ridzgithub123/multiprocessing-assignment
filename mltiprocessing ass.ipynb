{
 "cells": [
  {
   "cell_type": "code",
   "execution_count": null,
   "id": "178b082d-e8a3-4f43-ad3d-8274fb09d2e4",
   "metadata": {},
   "outputs": [],
   "source": [
    "#Q1. What is multiprocessing in python? Why is it useful?\n",
    "'''\n",
    "Multiprocessing refers to the ability of a system to support more than one processor at the same time.\n",
    "Applications in a multiprocessing system are broken to smaller routines that run independently. \n",
    "The operating system allocates these threads to the processors improving performance of the system.\n",
    "\n",
    "It is useful because the CPU can easily executes several tasks at once, with each task using its own processor.\n",
    "ie,it inc efficiency as  comparitively less time require to run the code.\n",
    "\n",
    "'''\n"
   ]
  },
  {
   "cell_type": "code",
   "execution_count": null,
   "id": "39c4196c-8b51-44c9-8fe6-db45f33f65fe",
   "metadata": {},
   "outputs": [],
   "source": [
    "#Q2. What are the differences between multiprocessing and multithreading?\n",
    "'''\n",
    "\t\n",
    "1.\tIn Multiprocessing, CPUs are added for increasing computing power.\n",
    "While In Multithreading, many threads are created of a single process for increasing computing power.\n",
    "2.\tIn Multiprocessing, Many processes are executed simultaneously.\n",
    "While in multithreading, many threads of a process are executed simultaneously.\n",
    "3.\tMultiprocessing are classified into Symmetric and Asymmetric.\t\n",
    "While Multithreading is not classified in any categories.\n",
    "4.\tIn Multiprocessing, Process creation is a time-consuming process.\n",
    "While in Multithreading, process creation is according to economical.\n",
    "5.\tIn Multiprocessing, every process owned a separate address space.\n",
    "While in Multithreading, a common address space is shared by all the threads.\n",
    "\n",
    "'''\n",
    "\n"
   ]
  },
  {
   "cell_type": "code",
   "execution_count": 3,
   "id": "2fb05e1e-bb69-4616-a480-f311b3f24a68",
   "metadata": {},
   "outputs": [
    {
     "name": "stdout",
     "output_type": "stream",
     "text": [
      "This is my main prog\n",
      "This is my processing prog\n"
     ]
    }
   ],
   "source": [
    "#Q3. Write a python code to create a process using the multiprocessing module.\n",
    "import multiprocessing\n",
    "def test() :\n",
    "    print(\"This is my processing prog\")\n",
    "if __name__== '__main__':\n",
    "    m=multiprocessing.Process(target=test)\n",
    "    print(\"This is my main prog\")\n",
    "    m.start()\n",
    "    m.join()"
   ]
  },
  {
   "cell_type": "code",
   "execution_count": null,
   "id": "bfca817c-4c6d-4239-85a9-e35fc4a6060f",
   "metadata": {},
   "outputs": [],
   "source": [
    "#Q4. What is a multiprocessing pool in python? Why is it used?\n",
    "'''\n",
    "A multiprocessing pool in Python is a process pool that allows tasks to be submitted as functions to the process pool to be executed concurrently.\n",
    "It provides a convenient means of parallelizing the execution of a function across multiple input values, distributing the input data across processes.\n",
    "The pool allows you to do multiple jobs per process, which may make it easier to parallelize your program.\n",
    "The multiprocessing pool is used when tasks are independent and not dependent on other tasks that could execute at the same time.\n",
    "\n",
    "'''\n"
   ]
  },
  {
   "cell_type": "code",
   "execution_count": null,
   "id": "bfa0103b-eb10-42f0-98a0-8b9ff5644061",
   "metadata": {},
   "outputs": [],
   "source": [
    "#Q5. How can we create a pool of worker processes in python using the multiprocessing module?\n",
    "'''\n",
    "The syntax to create a pool object is multiprocessing.Pool (processes, initializer, initargs, maxtasksperchild, context).\n",
    "All the arguments are optional. \n",
    "processes represent the number of worker processes you want to create.\n",
    "The default value is obtained by os.cpu_count ().\n",
    "\n",
    "'''\n"
   ]
  },
  {
   "cell_type": "code",
   "execution_count": 4,
   "id": "affce21a-3f44-493b-9e01-512c78474b48",
   "metadata": {},
   "outputs": [
    {
     "name": "stdout",
     "output_type": "stream",
     "text": [
      "number: 10\n",
      "Square: 100\n",
      "Cube: 1000\n",
      "4th pow: 10000\n",
      "Done!\n"
     ]
    }
   ],
   "source": [
    "#Q6. Write a python program to create 4 processes, each process should print a different number using the\n",
    "#multiprocessing module in python.\n",
    "\n",
    "import multiprocessing\n",
    "def print_number(num):\n",
    "    print(\"number: {}\".format(num))\n",
    "    \n",
    "def print_cube(num):\n",
    "    print(\"Cube: {}\".format(num * num * num))\n",
    "  \n",
    "def print_square(num):\n",
    "    print(\"Square: {}\".format(num * num))\n",
    "    \n",
    "def print_no(num):\n",
    "    print(\"4th pow: {}\".format(num*num*num*num))\n",
    "    \n",
    "  \n",
    "if __name__ == \"__main__\":\n",
    "    p  = multiprocessing.Process(target=print_number,args=(10, ))\n",
    "    p1 = multiprocessing.Process(target=print_square, args=(10, ))\n",
    "    p2 = multiprocessing.Process(target=print_cube, args=(10, ))\n",
    "    p3 = multiprocessing.Process(target=print_no, args=(10, )) \n",
    "   \n",
    "    p.start()\n",
    "    p1.start()\n",
    "    \n",
    "    p2.start()\n",
    "    p3.start()\n",
    "  \n",
    "    \n",
    "    p.join()\n",
    "    p1.join()\n",
    "   \n",
    "    p2.join()\n",
    "    p3.join()\n",
    "  \n",
    "    \n",
    "    print(\"Done!\")"
   ]
  },
  {
   "cell_type": "code",
   "execution_count": null,
   "id": "7cb749b1-5ebf-41aa-8875-5f5f59931288",
   "metadata": {},
   "outputs": [],
   "source": []
  }
 ],
 "metadata": {
  "kernelspec": {
   "display_name": "Python 3 (ipykernel)",
   "language": "python",
   "name": "python3"
  },
  "language_info": {
   "codemirror_mode": {
    "name": "ipython",
    "version": 3
   },
   "file_extension": ".py",
   "mimetype": "text/x-python",
   "name": "python",
   "nbconvert_exporter": "python",
   "pygments_lexer": "ipython3",
   "version": "3.10.8"
  }
 },
 "nbformat": 4,
 "nbformat_minor": 5
}
